{
 "cells": [
  {
   "cell_type": "code",
   "execution_count": 1,
   "id": "e78b5c4c-2496-4edc-937d-3d341e0e4a4e",
   "metadata": {},
   "outputs": [],
   "source": [
    "def Velu(P, Q):\n",
    "    assert (P.order().is_prime())\n",
    "    E = P.curve()\n",
    "    return E.isogeny(P)(Q)"
   ]
  },
  {
   "cell_type": "code",
   "execution_count": 2,
   "id": "d019b5ec-c552-48bc-a960-637ed98457a3",
   "metadata": {},
   "outputs": [],
   "source": [
    "l = 2 # fix the prime l"
   ]
  },
  {
   "cell_type": "code",
   "execution_count": 35,
   "id": "6941872a-0177-48d7-9eda-5327773c1b0b",
   "metadata": {},
   "outputs": [],
   "source": [
    "# aux(n, P) = f_n(P)\n",
    "def aux(n, P):\n",
    "    assert (P.order() == power(l, n)) # redundant step, but useful when debugging\n",
    "    if n == 0:\n",
    "        return []\n",
    "    else:\n",
    "        if n == 1:\n",
    "            return [P]\n",
    "        else:\n",
    "            m = n // 2\n",
    "            R = power(l, n - m) * P # R = l^{n-m} P is of order l^m\n",
    "            # print (\"R is of order = l^\", log(R.order(), l))\n",
    "            f = aux(m, R)\n",
    "            phiRP = compute(m, R, P, f)\n",
    "            # print (\"phiRP is of order = l^\", log(phiRP.order(), l))\n",
    "            return f + aux(n - m, phiRP) # the concatenation of lists is given by `+`\n",
    "\n",
    "\n",
    "# compute(n, P, Q, fnP) = image of Q in E/<P>, given fnP = f_n(P) = aux(n, P)\n",
    "def compute(n, P, Q, fnP = None):\n",
    "    # print(\"This is the\", cnt_compute, \"call to compute, n =\", n, \", P is of order =l^\", log(P.order(), l))\n",
    "    assert (P.order() == power(l, n)) # redundant step, but useful when debugging\n",
    "    imQ = Q # image of Q under each step\n",
    "    if fnP == None:\n",
    "        fnP = aux(n, P)\n",
    "    for i in range(n): # permute from i = 0 to i = n - 1\n",
    "        imQ = Velu(fnP[i], imQ)\n",
    "        if i != n - 1: # not necessary, but could be useful if we implement aux() differently\n",
    "            if (imQ.curve() != fnP[i+1].curve()) :\n",
    "                isom = imQ.curve().isomorphism_to(fnP[i+1].curve())\n",
    "                imQ = isom(imQ)\n",
    "    return imQ\n"
   ]
  },
  {
   "cell_type": "code",
   "execution_count": 26,
   "id": "bdb2dc6b-7e2c-4e34-93c8-3c7df0535934",
   "metadata": {},
   "outputs": [
    {
     "data": {
      "text/plain": [
       "Additive abelian group isomorphic to Z/200 + Z/40 embedded in Abelian group of points on Elliptic Curve defined by y^2 = x^3 + 88*x over Finite Field in z2 of size 89^2"
      ]
     },
     "execution_count": 26,
     "metadata": {},
     "output_type": "execute_result"
    }
   ],
   "source": [
    "# Generate a sample to test\n",
    "p_test = 89\n",
    "F_test = GF(power(p_test, 2))\n",
    "E = EllipticCurve(F_test, [-1, 0])\n",
    "E.abelian_group()"
   ]
  },
  {
   "cell_type": "code",
   "execution_count": 15,
   "id": "a1cc74da-c4db-4d3d-86ba-dcb95966c418",
   "metadata": {},
   "outputs": [],
   "source": [
    "def get_point_order_power_l (E, n, N): # A naive way to find a point of order l^n on E\n",
    "    for i in range(N):\n",
    "        P = E.random_point()\n",
    "        if P.order() == l ^ n:\n",
    "            return P\n",
    "    return \"Failed\""
   ]
  },
  {
   "cell_type": "code",
   "execution_count": 32,
   "id": "eaf25889-f0ca-41f8-9443-49e22bb7510d",
   "metadata": {},
   "outputs": [
    {
     "name": "stdout",
     "output_type": "stream",
     "text": [
      "(54*z2 + 40 : 26*z2 + 21 : 1) 8\n"
     ]
    }
   ],
   "source": [
    "P_test = get_point_order_power_l(E, 3, 10000)\n",
    "print(P_test, P_test.order())"
   ]
  },
  {
   "cell_type": "code",
   "execution_count": 33,
   "id": "597a0b93-0fae-4a29-a65c-1f10963662c0",
   "metadata": {},
   "outputs": [
    {
     "name": "stdout",
     "output_type": "stream",
     "text": [
      "True\n",
      "True\n",
      "True\n",
      "True\n"
     ]
    }
   ],
   "source": [
    "for i in range(4):\n",
    "    Q_test = E.random_point()\n",
    "    print(compute(3, P_test, Q_test) == E.isogeny(P_test)(Q_test))\n",
    "    # I am surprised that this is an equality (rather than isomorphism), and that I need to compute no isomorphism in `compute`."
   ]
  },
  {
   "cell_type": "code",
   "execution_count": 36,
   "id": "1186e7a0-5eed-4b15-bb8e-0ed86400d42c",
   "metadata": {},
   "outputs": [],
   "source": [
    "# Question 2.8\n",
    "p = 2 ^ 127 - 1\n",
    "Fq.<a> = GF(power(p, 2))\n",
    "E = EllipticCurve(Fq, [-1, 0])\n",
    "[P, Q] = E.gens()"
   ]
  },
  {
   "cell_type": "code",
   "execution_count": 37,
   "id": "35e8fe3d-a9f1-4253-a1ea-8023d8511170",
   "metadata": {},
   "outputs": [
    {
     "data": {
      "text/plain": [
       "True"
      ]
     },
     "execution_count": 37,
     "metadata": {},
     "output_type": "execute_result"
    }
   ],
   "source": [
    "# verify that both P and Q have order 2 ^ 127\n",
    "P.order() == 2 ^ 127 & Q.order() == 2 ^ 127"
   ]
  },
  {
   "cell_type": "code",
   "execution_count": 38,
   "id": "93ec252f-5d7c-478b-aaf1-4817122c2fe0",
   "metadata": {},
   "outputs": [
    {
     "data": {
      "text/plain": [
       "(159641116237164011577138424333518592728*a + 50151477678775928310586280658106159686 : 97212599674500559127419380079867975655*a + 52160980509111977692718439083884729272 : 1)"
      ]
     },
     "execution_count": 38,
     "metadata": {},
     "output_type": "execute_result"
    }
   ],
   "source": [
    "# compute R = \\varphi_P(Q)\n",
    "R = compute(127, P, Q)\n",
    "R"
   ]
  },
  {
   "cell_type": "code",
   "execution_count": 39,
   "id": "f1ff3ab5-6ea6-4870-81be-c5fe774e2c7e",
   "metadata": {},
   "outputs": [
    {
     "data": {
      "text/plain": [
       "True"
      ]
     },
     "execution_count": 39,
     "metadata": {},
     "output_type": "execute_result"
    }
   ],
   "source": [
    "R == E.isogeny(P)(Q)"
   ]
  }
 ],
 "metadata": {
  "kernelspec": {
   "display_name": "SageMath 10.4",
   "language": "sage",
   "name": "sagemath"
  },
  "language_info": {
   "codemirror_mode": {
    "name": "ipython",
    "version": 3
   },
   "file_extension": ".py",
   "mimetype": "text/x-python",
   "name": "python",
   "nbconvert_exporter": "python",
   "pygments_lexer": "ipython3",
   "version": "3.11.11"
  }
 },
 "nbformat": 4,
 "nbformat_minor": 5
}
